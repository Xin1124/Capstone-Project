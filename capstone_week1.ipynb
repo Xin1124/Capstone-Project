{
 "cells": [
  {
   "cell_type": "markdown",
   "metadata": {},
   "source": [
    "# Severity Prediction of An Accident"
   ]
  },
  {
   "cell_type": "markdown",
   "metadata": {},
   "source": [
    "## Business Understanding"
   ]
  },
  {
   "cell_type": "markdown",
   "metadata": {},
   "source": [
    "**When driving, a bunch of factors such as weather conditions, road conditions, whether or not it is due to inattention and so on. In addition, the number of different type of vehicles involved in the collision is also a crucial indicator to assess the severity of this collision. What we are gonna do is to build an appropriate classification model so that we are able to predict the severity of a collision using these existing attributes.**"
   ]
  },
  {
   "cell_type": "markdown",
   "metadata": {},
   "source": [
    "## Data Understanding"
   ]
  },
  {
   "cell_type": "code",
   "execution_count": 1,
   "metadata": {},
   "outputs": [],
   "source": [
    "import numpy as np\n",
    "import pandas as pd\n",
    "import matplotlib.pyplot as plt\n",
    "import seaborn as sns"
   ]
  },
  {
   "cell_type": "code",
   "execution_count": 2,
   "metadata": {},
   "outputs": [
    {
     "name": "stderr",
     "output_type": "stream",
     "text": [
      "/Users/apple/anaconda3/lib/python3.7/site-packages/IPython/core/interactiveshell.py:3049: DtypeWarning: Columns (33) have mixed types. Specify dtype option on import or set low_memory=False.\n",
      "  interactivity=interactivity, compiler=compiler, result=result)\n"
     ]
    },
    {
     "data": {
      "text/html": [
       "<div>\n",
       "<style scoped>\n",
       "    .dataframe tbody tr th:only-of-type {\n",
       "        vertical-align: middle;\n",
       "    }\n",
       "\n",
       "    .dataframe tbody tr th {\n",
       "        vertical-align: top;\n",
       "    }\n",
       "\n",
       "    .dataframe thead th {\n",
       "        text-align: right;\n",
       "    }\n",
       "</style>\n",
       "<table border=\"1\" class=\"dataframe\">\n",
       "  <thead>\n",
       "    <tr style=\"text-align: right;\">\n",
       "      <th></th>\n",
       "      <th>SEVERITYCODE</th>\n",
       "      <th>X</th>\n",
       "      <th>Y</th>\n",
       "      <th>OBJECTID</th>\n",
       "      <th>INCKEY</th>\n",
       "      <th>COLDETKEY</th>\n",
       "      <th>REPORTNO</th>\n",
       "      <th>STATUS</th>\n",
       "      <th>ADDRTYPE</th>\n",
       "      <th>INTKEY</th>\n",
       "      <th>...</th>\n",
       "      <th>ROADCOND</th>\n",
       "      <th>LIGHTCOND</th>\n",
       "      <th>PEDROWNOTGRNT</th>\n",
       "      <th>SDOTCOLNUM</th>\n",
       "      <th>SPEEDING</th>\n",
       "      <th>ST_COLCODE</th>\n",
       "      <th>ST_COLDESC</th>\n",
       "      <th>SEGLANEKEY</th>\n",
       "      <th>CROSSWALKKEY</th>\n",
       "      <th>HITPARKEDCAR</th>\n",
       "    </tr>\n",
       "  </thead>\n",
       "  <tbody>\n",
       "    <tr>\n",
       "      <th>0</th>\n",
       "      <td>2</td>\n",
       "      <td>-122.323148</td>\n",
       "      <td>47.703140</td>\n",
       "      <td>1</td>\n",
       "      <td>1307</td>\n",
       "      <td>1307</td>\n",
       "      <td>3502005</td>\n",
       "      <td>Matched</td>\n",
       "      <td>Intersection</td>\n",
       "      <td>37475.0</td>\n",
       "      <td>...</td>\n",
       "      <td>Wet</td>\n",
       "      <td>Daylight</td>\n",
       "      <td>NaN</td>\n",
       "      <td>NaN</td>\n",
       "      <td>NaN</td>\n",
       "      <td>10</td>\n",
       "      <td>Entering at angle</td>\n",
       "      <td>0</td>\n",
       "      <td>0</td>\n",
       "      <td>N</td>\n",
       "    </tr>\n",
       "    <tr>\n",
       "      <th>1</th>\n",
       "      <td>1</td>\n",
       "      <td>-122.347294</td>\n",
       "      <td>47.647172</td>\n",
       "      <td>2</td>\n",
       "      <td>52200</td>\n",
       "      <td>52200</td>\n",
       "      <td>2607959</td>\n",
       "      <td>Matched</td>\n",
       "      <td>Block</td>\n",
       "      <td>NaN</td>\n",
       "      <td>...</td>\n",
       "      <td>Wet</td>\n",
       "      <td>Dark - Street Lights On</td>\n",
       "      <td>NaN</td>\n",
       "      <td>6354039.0</td>\n",
       "      <td>NaN</td>\n",
       "      <td>11</td>\n",
       "      <td>From same direction - both going straight - bo...</td>\n",
       "      <td>0</td>\n",
       "      <td>0</td>\n",
       "      <td>N</td>\n",
       "    </tr>\n",
       "    <tr>\n",
       "      <th>2</th>\n",
       "      <td>1</td>\n",
       "      <td>-122.334540</td>\n",
       "      <td>47.607871</td>\n",
       "      <td>3</td>\n",
       "      <td>26700</td>\n",
       "      <td>26700</td>\n",
       "      <td>1482393</td>\n",
       "      <td>Matched</td>\n",
       "      <td>Block</td>\n",
       "      <td>NaN</td>\n",
       "      <td>...</td>\n",
       "      <td>Dry</td>\n",
       "      <td>Daylight</td>\n",
       "      <td>NaN</td>\n",
       "      <td>4323031.0</td>\n",
       "      <td>NaN</td>\n",
       "      <td>32</td>\n",
       "      <td>One parked--one moving</td>\n",
       "      <td>0</td>\n",
       "      <td>0</td>\n",
       "      <td>N</td>\n",
       "    </tr>\n",
       "    <tr>\n",
       "      <th>3</th>\n",
       "      <td>1</td>\n",
       "      <td>-122.334803</td>\n",
       "      <td>47.604803</td>\n",
       "      <td>4</td>\n",
       "      <td>1144</td>\n",
       "      <td>1144</td>\n",
       "      <td>3503937</td>\n",
       "      <td>Matched</td>\n",
       "      <td>Block</td>\n",
       "      <td>NaN</td>\n",
       "      <td>...</td>\n",
       "      <td>Dry</td>\n",
       "      <td>Daylight</td>\n",
       "      <td>NaN</td>\n",
       "      <td>NaN</td>\n",
       "      <td>NaN</td>\n",
       "      <td>23</td>\n",
       "      <td>From same direction - all others</td>\n",
       "      <td>0</td>\n",
       "      <td>0</td>\n",
       "      <td>N</td>\n",
       "    </tr>\n",
       "    <tr>\n",
       "      <th>4</th>\n",
       "      <td>2</td>\n",
       "      <td>-122.306426</td>\n",
       "      <td>47.545739</td>\n",
       "      <td>5</td>\n",
       "      <td>17700</td>\n",
       "      <td>17700</td>\n",
       "      <td>1807429</td>\n",
       "      <td>Matched</td>\n",
       "      <td>Intersection</td>\n",
       "      <td>34387.0</td>\n",
       "      <td>...</td>\n",
       "      <td>Wet</td>\n",
       "      <td>Daylight</td>\n",
       "      <td>NaN</td>\n",
       "      <td>4028032.0</td>\n",
       "      <td>NaN</td>\n",
       "      <td>10</td>\n",
       "      <td>Entering at angle</td>\n",
       "      <td>0</td>\n",
       "      <td>0</td>\n",
       "      <td>N</td>\n",
       "    </tr>\n",
       "    <tr>\n",
       "      <th>5</th>\n",
       "      <td>1</td>\n",
       "      <td>-122.387598</td>\n",
       "      <td>47.690575</td>\n",
       "      <td>6</td>\n",
       "      <td>320840</td>\n",
       "      <td>322340</td>\n",
       "      <td>E919477</td>\n",
       "      <td>Matched</td>\n",
       "      <td>Intersection</td>\n",
       "      <td>36974.0</td>\n",
       "      <td>...</td>\n",
       "      <td>Dry</td>\n",
       "      <td>Daylight</td>\n",
       "      <td>NaN</td>\n",
       "      <td>NaN</td>\n",
       "      <td>NaN</td>\n",
       "      <td>10</td>\n",
       "      <td>Entering at angle</td>\n",
       "      <td>0</td>\n",
       "      <td>0</td>\n",
       "      <td>N</td>\n",
       "    </tr>\n",
       "    <tr>\n",
       "      <th>6</th>\n",
       "      <td>1</td>\n",
       "      <td>-122.338485</td>\n",
       "      <td>47.618534</td>\n",
       "      <td>7</td>\n",
       "      <td>83300</td>\n",
       "      <td>83300</td>\n",
       "      <td>3282542</td>\n",
       "      <td>Matched</td>\n",
       "      <td>Intersection</td>\n",
       "      <td>29510.0</td>\n",
       "      <td>...</td>\n",
       "      <td>Wet</td>\n",
       "      <td>Daylight</td>\n",
       "      <td>NaN</td>\n",
       "      <td>8344002.0</td>\n",
       "      <td>NaN</td>\n",
       "      <td>10</td>\n",
       "      <td>Entering at angle</td>\n",
       "      <td>0</td>\n",
       "      <td>0</td>\n",
       "      <td>N</td>\n",
       "    </tr>\n",
       "    <tr>\n",
       "      <th>7</th>\n",
       "      <td>2</td>\n",
       "      <td>-122.320780</td>\n",
       "      <td>47.614076</td>\n",
       "      <td>9</td>\n",
       "      <td>330897</td>\n",
       "      <td>332397</td>\n",
       "      <td>EA30304</td>\n",
       "      <td>Matched</td>\n",
       "      <td>Intersection</td>\n",
       "      <td>29745.0</td>\n",
       "      <td>...</td>\n",
       "      <td>Dry</td>\n",
       "      <td>Daylight</td>\n",
       "      <td>NaN</td>\n",
       "      <td>NaN</td>\n",
       "      <td>NaN</td>\n",
       "      <td>5</td>\n",
       "      <td>Vehicle Strikes Pedalcyclist</td>\n",
       "      <td>6855</td>\n",
       "      <td>0</td>\n",
       "      <td>N</td>\n",
       "    </tr>\n",
       "    <tr>\n",
       "      <th>8</th>\n",
       "      <td>1</td>\n",
       "      <td>-122.335930</td>\n",
       "      <td>47.611904</td>\n",
       "      <td>10</td>\n",
       "      <td>63400</td>\n",
       "      <td>63400</td>\n",
       "      <td>2071243</td>\n",
       "      <td>Matched</td>\n",
       "      <td>Block</td>\n",
       "      <td>NaN</td>\n",
       "      <td>...</td>\n",
       "      <td>Dry</td>\n",
       "      <td>Daylight</td>\n",
       "      <td>NaN</td>\n",
       "      <td>6166014.0</td>\n",
       "      <td>NaN</td>\n",
       "      <td>32</td>\n",
       "      <td>One parked--one moving</td>\n",
       "      <td>0</td>\n",
       "      <td>0</td>\n",
       "      <td>N</td>\n",
       "    </tr>\n",
       "    <tr>\n",
       "      <th>9</th>\n",
       "      <td>2</td>\n",
       "      <td>-122.384700</td>\n",
       "      <td>47.528475</td>\n",
       "      <td>12</td>\n",
       "      <td>58600</td>\n",
       "      <td>58600</td>\n",
       "      <td>2072105</td>\n",
       "      <td>Matched</td>\n",
       "      <td>Intersection</td>\n",
       "      <td>34679.0</td>\n",
       "      <td>...</td>\n",
       "      <td>Dry</td>\n",
       "      <td>Daylight</td>\n",
       "      <td>NaN</td>\n",
       "      <td>6079001.0</td>\n",
       "      <td>NaN</td>\n",
       "      <td>10</td>\n",
       "      <td>Entering at angle</td>\n",
       "      <td>0</td>\n",
       "      <td>0</td>\n",
       "      <td>N</td>\n",
       "    </tr>\n",
       "    <tr>\n",
       "      <th>10</th>\n",
       "      <td>1</td>\n",
       "      <td>NaN</td>\n",
       "      <td>NaN</td>\n",
       "      <td>14</td>\n",
       "      <td>48900</td>\n",
       "      <td>48900</td>\n",
       "      <td>2024040</td>\n",
       "      <td>Matched</td>\n",
       "      <td>Alley</td>\n",
       "      <td>NaN</td>\n",
       "      <td>...</td>\n",
       "      <td>Dry</td>\n",
       "      <td>Daylight</td>\n",
       "      <td>NaN</td>\n",
       "      <td>6145029.0</td>\n",
       "      <td>NaN</td>\n",
       "      <td>22</td>\n",
       "      <td>One car leaving driveway access</td>\n",
       "      <td>0</td>\n",
       "      <td>0</td>\n",
       "      <td>N</td>\n",
       "    </tr>\n",
       "    <tr>\n",
       "      <th>11</th>\n",
       "      <td>1</td>\n",
       "      <td>-122.333831</td>\n",
       "      <td>47.547371</td>\n",
       "      <td>15</td>\n",
       "      <td>38800</td>\n",
       "      <td>38800</td>\n",
       "      <td>C654800</td>\n",
       "      <td>Matched</td>\n",
       "      <td>Intersection</td>\n",
       "      <td>33194.0</td>\n",
       "      <td>...</td>\n",
       "      <td>Dry</td>\n",
       "      <td>Daylight</td>\n",
       "      <td>NaN</td>\n",
       "      <td>5223041.0</td>\n",
       "      <td>NaN</td>\n",
       "      <td>10</td>\n",
       "      <td>Entering at angle</td>\n",
       "      <td>0</td>\n",
       "      <td>0</td>\n",
       "      <td>N</td>\n",
       "    </tr>\n",
       "    <tr>\n",
       "      <th>12</th>\n",
       "      <td>1</td>\n",
       "      <td>-122.356273</td>\n",
       "      <td>47.571375</td>\n",
       "      <td>16</td>\n",
       "      <td>2771</td>\n",
       "      <td>2771</td>\n",
       "      <td>1211870</td>\n",
       "      <td>Unmatched</td>\n",
       "      <td>Block</td>\n",
       "      <td>NaN</td>\n",
       "      <td>...</td>\n",
       "      <td>Wet</td>\n",
       "      <td>Dark - Street Lights On</td>\n",
       "      <td>NaN</td>\n",
       "      <td>3137016.0</td>\n",
       "      <td>NaN</td>\n",
       "      <td>14</td>\n",
       "      <td>From same direction - both going straight - on...</td>\n",
       "      <td>0</td>\n",
       "      <td>0</td>\n",
       "      <td>N</td>\n",
       "    </tr>\n",
       "    <tr>\n",
       "      <th>13</th>\n",
       "      <td>1</td>\n",
       "      <td>-122.323966</td>\n",
       "      <td>47.606374</td>\n",
       "      <td>17</td>\n",
       "      <td>32800</td>\n",
       "      <td>32800</td>\n",
       "      <td>2128498</td>\n",
       "      <td>Matched</td>\n",
       "      <td>Block</td>\n",
       "      <td>NaN</td>\n",
       "      <td>...</td>\n",
       "      <td>Wet</td>\n",
       "      <td>Dark - No Street Lights</td>\n",
       "      <td>NaN</td>\n",
       "      <td>5356027.0</td>\n",
       "      <td>NaN</td>\n",
       "      <td>32</td>\n",
       "      <td>One parked--one moving</td>\n",
       "      <td>0</td>\n",
       "      <td>0</td>\n",
       "      <td>N</td>\n",
       "    </tr>\n",
       "    <tr>\n",
       "      <th>14</th>\n",
       "      <td>2</td>\n",
       "      <td>-122.317414</td>\n",
       "      <td>47.664028</td>\n",
       "      <td>19</td>\n",
       "      <td>1212</td>\n",
       "      <td>1212</td>\n",
       "      <td>3507861</td>\n",
       "      <td>Matched</td>\n",
       "      <td>Block</td>\n",
       "      <td>NaN</td>\n",
       "      <td>...</td>\n",
       "      <td>Dry</td>\n",
       "      <td>Dark - Street Lights On</td>\n",
       "      <td>NaN</td>\n",
       "      <td>NaN</td>\n",
       "      <td>NaN</td>\n",
       "      <td>30</td>\n",
       "      <td>From opposite direction - all others</td>\n",
       "      <td>0</td>\n",
       "      <td>0</td>\n",
       "      <td>N</td>\n",
       "    </tr>\n",
       "    <tr>\n",
       "      <th>15</th>\n",
       "      <td>1</td>\n",
       "      <td>-122.337663</td>\n",
       "      <td>47.617510</td>\n",
       "      <td>20</td>\n",
       "      <td>330878</td>\n",
       "      <td>332378</td>\n",
       "      <td>3838086</td>\n",
       "      <td>Unmatched</td>\n",
       "      <td>Block</td>\n",
       "      <td>NaN</td>\n",
       "      <td>...</td>\n",
       "      <td>NaN</td>\n",
       "      <td>NaN</td>\n",
       "      <td>NaN</td>\n",
       "      <td>NaN</td>\n",
       "      <td>NaN</td>\n",
       "      <td></td>\n",
       "      <td>NaN</td>\n",
       "      <td>0</td>\n",
       "      <td>0</td>\n",
       "      <td>N</td>\n",
       "    </tr>\n",
       "    <tr>\n",
       "      <th>16</th>\n",
       "      <td>2</td>\n",
       "      <td>-122.344539</td>\n",
       "      <td>47.692012</td>\n",
       "      <td>21</td>\n",
       "      <td>46300</td>\n",
       "      <td>46300</td>\n",
       "      <td>2023080</td>\n",
       "      <td>Matched</td>\n",
       "      <td>Intersection</td>\n",
       "      <td>37365.0</td>\n",
       "      <td>...</td>\n",
       "      <td>Dry</td>\n",
       "      <td>Daylight</td>\n",
       "      <td>NaN</td>\n",
       "      <td>5182022.0</td>\n",
       "      <td>NaN</td>\n",
       "      <td>28</td>\n",
       "      <td>From opposite direction - one left turn - one ...</td>\n",
       "      <td>0</td>\n",
       "      <td>0</td>\n",
       "      <td>N</td>\n",
       "    </tr>\n",
       "    <tr>\n",
       "      <th>17</th>\n",
       "      <td>1</td>\n",
       "      <td>NaN</td>\n",
       "      <td>NaN</td>\n",
       "      <td>23</td>\n",
       "      <td>23000</td>\n",
       "      <td>23000</td>\n",
       "      <td>537838</td>\n",
       "      <td>Matched</td>\n",
       "      <td>Block</td>\n",
       "      <td>NaN</td>\n",
       "      <td>...</td>\n",
       "      <td>Dry</td>\n",
       "      <td>Daylight</td>\n",
       "      <td>NaN</td>\n",
       "      <td>4016025.0</td>\n",
       "      <td>NaN</td>\n",
       "      <td>14</td>\n",
       "      <td>From same direction - both going straight - on...</td>\n",
       "      <td>0</td>\n",
       "      <td>0</td>\n",
       "      <td>N</td>\n",
       "    </tr>\n",
       "    <tr>\n",
       "      <th>18</th>\n",
       "      <td>2</td>\n",
       "      <td>-122.328270</td>\n",
       "      <td>47.571420</td>\n",
       "      <td>24</td>\n",
       "      <td>330833</td>\n",
       "      <td>332333</td>\n",
       "      <td>EA29752</td>\n",
       "      <td>Matched</td>\n",
       "      <td>Block</td>\n",
       "      <td>NaN</td>\n",
       "      <td>...</td>\n",
       "      <td>Dry</td>\n",
       "      <td>Daylight</td>\n",
       "      <td>NaN</td>\n",
       "      <td>NaN</td>\n",
       "      <td>NaN</td>\n",
       "      <td>14</td>\n",
       "      <td>From same direction - both going straight - on...</td>\n",
       "      <td>0</td>\n",
       "      <td>0</td>\n",
       "      <td>N</td>\n",
       "    </tr>\n",
       "    <tr>\n",
       "      <th>19</th>\n",
       "      <td>1</td>\n",
       "      <td>-122.383802</td>\n",
       "      <td>47.583715</td>\n",
       "      <td>25</td>\n",
       "      <td>97100</td>\n",
       "      <td>97100</td>\n",
       "      <td>2894590</td>\n",
       "      <td>Matched</td>\n",
       "      <td>Block</td>\n",
       "      <td>NaN</td>\n",
       "      <td>...</td>\n",
       "      <td>Dry</td>\n",
       "      <td>Unknown</td>\n",
       "      <td>NaN</td>\n",
       "      <td>9152035.0</td>\n",
       "      <td>NaN</td>\n",
       "      <td>32</td>\n",
       "      <td>One parked--one moving</td>\n",
       "      <td>0</td>\n",
       "      <td>0</td>\n",
       "      <td>N</td>\n",
       "    </tr>\n",
       "  </tbody>\n",
       "</table>\n",
       "<p>20 rows × 38 columns</p>\n",
       "</div>"
      ],
      "text/plain": [
       "    SEVERITYCODE           X          Y  OBJECTID  INCKEY  COLDETKEY REPORTNO  \\\n",
       "0              2 -122.323148  47.703140         1    1307       1307  3502005   \n",
       "1              1 -122.347294  47.647172         2   52200      52200  2607959   \n",
       "2              1 -122.334540  47.607871         3   26700      26700  1482393   \n",
       "3              1 -122.334803  47.604803         4    1144       1144  3503937   \n",
       "4              2 -122.306426  47.545739         5   17700      17700  1807429   \n",
       "5              1 -122.387598  47.690575         6  320840     322340  E919477   \n",
       "6              1 -122.338485  47.618534         7   83300      83300  3282542   \n",
       "7              2 -122.320780  47.614076         9  330897     332397  EA30304   \n",
       "8              1 -122.335930  47.611904        10   63400      63400  2071243   \n",
       "9              2 -122.384700  47.528475        12   58600      58600  2072105   \n",
       "10             1         NaN        NaN        14   48900      48900  2024040   \n",
       "11             1 -122.333831  47.547371        15   38800      38800  C654800   \n",
       "12             1 -122.356273  47.571375        16    2771       2771  1211870   \n",
       "13             1 -122.323966  47.606374        17   32800      32800  2128498   \n",
       "14             2 -122.317414  47.664028        19    1212       1212  3507861   \n",
       "15             1 -122.337663  47.617510        20  330878     332378  3838086   \n",
       "16             2 -122.344539  47.692012        21   46300      46300  2023080   \n",
       "17             1         NaN        NaN        23   23000      23000   537838   \n",
       "18             2 -122.328270  47.571420        24  330833     332333  EA29752   \n",
       "19             1 -122.383802  47.583715        25   97100      97100  2894590   \n",
       "\n",
       "       STATUS      ADDRTYPE   INTKEY  ... ROADCOND                LIGHTCOND  \\\n",
       "0     Matched  Intersection  37475.0  ...      Wet                 Daylight   \n",
       "1     Matched         Block      NaN  ...      Wet  Dark - Street Lights On   \n",
       "2     Matched         Block      NaN  ...      Dry                 Daylight   \n",
       "3     Matched         Block      NaN  ...      Dry                 Daylight   \n",
       "4     Matched  Intersection  34387.0  ...      Wet                 Daylight   \n",
       "5     Matched  Intersection  36974.0  ...      Dry                 Daylight   \n",
       "6     Matched  Intersection  29510.0  ...      Wet                 Daylight   \n",
       "7     Matched  Intersection  29745.0  ...      Dry                 Daylight   \n",
       "8     Matched         Block      NaN  ...      Dry                 Daylight   \n",
       "9     Matched  Intersection  34679.0  ...      Dry                 Daylight   \n",
       "10    Matched         Alley      NaN  ...      Dry                 Daylight   \n",
       "11    Matched  Intersection  33194.0  ...      Dry                 Daylight   \n",
       "12  Unmatched         Block      NaN  ...      Wet  Dark - Street Lights On   \n",
       "13    Matched         Block      NaN  ...      Wet  Dark - No Street Lights   \n",
       "14    Matched         Block      NaN  ...      Dry  Dark - Street Lights On   \n",
       "15  Unmatched         Block      NaN  ...      NaN                      NaN   \n",
       "16    Matched  Intersection  37365.0  ...      Dry                 Daylight   \n",
       "17    Matched         Block      NaN  ...      Dry                 Daylight   \n",
       "18    Matched         Block      NaN  ...      Dry                 Daylight   \n",
       "19    Matched         Block      NaN  ...      Dry                  Unknown   \n",
       "\n",
       "   PEDROWNOTGRNT  SDOTCOLNUM SPEEDING ST_COLCODE  \\\n",
       "0            NaN         NaN      NaN         10   \n",
       "1            NaN   6354039.0      NaN         11   \n",
       "2            NaN   4323031.0      NaN         32   \n",
       "3            NaN         NaN      NaN         23   \n",
       "4            NaN   4028032.0      NaN         10   \n",
       "5            NaN         NaN      NaN         10   \n",
       "6            NaN   8344002.0      NaN         10   \n",
       "7            NaN         NaN      NaN          5   \n",
       "8            NaN   6166014.0      NaN         32   \n",
       "9            NaN   6079001.0      NaN         10   \n",
       "10           NaN   6145029.0      NaN         22   \n",
       "11           NaN   5223041.0      NaN         10   \n",
       "12           NaN   3137016.0      NaN         14   \n",
       "13           NaN   5356027.0      NaN         32   \n",
       "14           NaN         NaN      NaN         30   \n",
       "15           NaN         NaN      NaN              \n",
       "16           NaN   5182022.0      NaN         28   \n",
       "17           NaN   4016025.0      NaN         14   \n",
       "18           NaN         NaN      NaN         14   \n",
       "19           NaN   9152035.0      NaN         32   \n",
       "\n",
       "                                           ST_COLDESC  SEGLANEKEY  \\\n",
       "0                                   Entering at angle           0   \n",
       "1   From same direction - both going straight - bo...           0   \n",
       "2                              One parked--one moving           0   \n",
       "3                    From same direction - all others           0   \n",
       "4                                   Entering at angle           0   \n",
       "5                                   Entering at angle           0   \n",
       "6                                   Entering at angle           0   \n",
       "7                        Vehicle Strikes Pedalcyclist        6855   \n",
       "8                              One parked--one moving           0   \n",
       "9                                   Entering at angle           0   \n",
       "10                    One car leaving driveway access           0   \n",
       "11                                  Entering at angle           0   \n",
       "12  From same direction - both going straight - on...           0   \n",
       "13                             One parked--one moving           0   \n",
       "14               From opposite direction - all others           0   \n",
       "15                                                NaN           0   \n",
       "16  From opposite direction - one left turn - one ...           0   \n",
       "17  From same direction - both going straight - on...           0   \n",
       "18  From same direction - both going straight - on...           0   \n",
       "19                             One parked--one moving           0   \n",
       "\n",
       "    CROSSWALKKEY  HITPARKEDCAR  \n",
       "0              0             N  \n",
       "1              0             N  \n",
       "2              0             N  \n",
       "3              0             N  \n",
       "4              0             N  \n",
       "5              0             N  \n",
       "6              0             N  \n",
       "7              0             N  \n",
       "8              0             N  \n",
       "9              0             N  \n",
       "10             0             N  \n",
       "11             0             N  \n",
       "12             0             N  \n",
       "13             0             N  \n",
       "14             0             N  \n",
       "15             0             N  \n",
       "16             0             N  \n",
       "17             0             N  \n",
       "18             0             N  \n",
       "19             0             N  \n",
       "\n",
       "[20 rows x 38 columns]"
      ]
     },
     "execution_count": 2,
     "metadata": {},
     "output_type": "execute_result"
    }
   ],
   "source": [
    "df = pd.read_csv(\"Data-Collisions.csv\")\n",
    "df.head(20)"
   ]
  },
  {
   "cell_type": "markdown",
   "metadata": {},
   "source": [
    "**There are total 194673 observations and 37 features in the dataset.\n",
    "Features: X, Y, INCKEY, COLDETKEY, REPORTNO, STATUS, ADDRTYPE, INTKEY, LOCATION, EXCEPTRSNCODE, EXCEPTRSNDESC, SEVERITYCODE.1, SEVERITYDESC, INCDATE, INCDTTM, SDOT_COLCODE, SDOT_COLDESC, ST_COLCODE, ST_COLDESC, SDOTCOLNUM, SEGLANEKEY, CROSSWALKKEY are some general or descriptive features, so we will eliminate them in our prediction model.**"
   ]
  },
  {
   "cell_type": "code",
   "execution_count": 3,
   "metadata": {},
   "outputs": [
    {
     "name": "stdout",
     "output_type": "stream",
     "text": [
      "<class 'pandas.core.frame.DataFrame'>\n",
      "RangeIndex: 194673 entries, 0 to 194672\n",
      "Data columns (total 16 columns):\n",
      "SEVERITYCODE      194673 non-null int64\n",
      "OBJECTID          194673 non-null int64\n",
      "COLLISIONTYPE     189769 non-null object\n",
      "PERSONCOUNT       194673 non-null int64\n",
      "PEDCOUNT          194673 non-null int64\n",
      "PEDCYLCOUNT       194673 non-null int64\n",
      "VEHCOUNT          194673 non-null int64\n",
      "JUNCTIONTYPE      188344 non-null object\n",
      "INATTENTIONIND    29805 non-null object\n",
      "UNDERINFL         189789 non-null object\n",
      "WEATHER           189592 non-null object\n",
      "ROADCOND          189661 non-null object\n",
      "LIGHTCOND         189503 non-null object\n",
      "PEDROWNOTGRNT     4667 non-null object\n",
      "SPEEDING          9333 non-null object\n",
      "HITPARKEDCAR      194673 non-null object\n",
      "dtypes: int64(6), object(10)\n",
      "memory usage: 23.8+ MB\n"
     ]
    }
   ],
   "source": [
    "df.drop(columns = ['X',\"Y\", \"INCKEY\", \"COLDETKEY\", \"REPORTNO\", \"STATUS\", \"ADDRTYPE\", \"INTKEY\", \"LOCATION\", \n",
    "            \"EXCEPTRSNCODE\", \"EXCEPTRSNDESC\", \"SEVERITYCODE.1\", \"SEVERITYDESC\", \"INCDATE\", \n",
    "            \"INCDTTM\", \"SDOT_COLCODE\", \"SDOT_COLDESC\", \"ST_COLCODE\", \"ST_COLDESC\", \n",
    "            \"SDOTCOLNUM\", \"SEGLANEKEY\", \"CROSSWALKKEY\"],inplace=True)\n",
    "df.info()"
   ]
  },
  {
   "cell_type": "code",
   "execution_count": 4,
   "metadata": {},
   "outputs": [],
   "source": [
    "def func(x):\n",
    "    if x == \"N\":\n",
    "        return \"N\"\n",
    "    elif x == \"Y\":\n",
    "        return \"Y\"\n",
    "    elif x==\"0\":\n",
    "        return \"N\"\n",
    "    else:\n",
    "        return \"Y\"\n",
    "    \n",
    "df['UNDERINFL'] = df['UNDERINFL'].apply(func)\n",
    "df['PEDROWNOTGRNT'] = df['PEDROWNOTGRNT'].fillna(value='N')\n",
    "df['SPEEDING'] = df['SPEEDING'].fillna(value='N')\n",
    "df['INATTENTIONIND'] = df['INATTENTIONIND'].fillna(value='N')"
   ]
  },
  {
   "cell_type": "code",
   "execution_count": 5,
   "metadata": {},
   "outputs": [],
   "source": [
    "df = df.replace(\"Unknown\",np.nan)"
   ]
  },
  {
   "cell_type": "code",
   "execution_count": 6,
   "metadata": {},
   "outputs": [
    {
     "data": {
      "text/plain": [
       "SEVERITYCODE      False\n",
       "OBJECTID          False\n",
       "COLLISIONTYPE      True\n",
       "PERSONCOUNT       False\n",
       "PEDCOUNT          False\n",
       "PEDCYLCOUNT       False\n",
       "VEHCOUNT          False\n",
       "JUNCTIONTYPE       True\n",
       "INATTENTIONIND    False\n",
       "UNDERINFL         False\n",
       "WEATHER            True\n",
       "ROADCOND           True\n",
       "LIGHTCOND          True\n",
       "PEDROWNOTGRNT     False\n",
       "SPEEDING          False\n",
       "HITPARKEDCAR      False\n",
       "dtype: bool"
      ]
     },
     "execution_count": 6,
     "metadata": {},
     "output_type": "execute_result"
    }
   ],
   "source": [
    "df.isnull().any(axis=0)"
   ]
  },
  {
   "cell_type": "markdown",
   "metadata": {},
   "source": [
    "**There are some observations with missing values in all the following features: COLLISIONTYPE, JUNCTIONTYPE, UNDERINFL, WEATHER, ROADCOND and LIGHTCOND, so these observations will be dropped.**"
   ]
  },
  {
   "cell_type": "code",
   "execution_count": 7,
   "metadata": {},
   "outputs": [],
   "source": [
    "df.dropna(subset=['COLLISIONTYPE','JUNCTIONTYPE','UNDERINFL','WEATHER','ROADCOND','LIGHTCOND'],inplace=True)"
   ]
  },
  {
   "cell_type": "markdown",
   "metadata": {},
   "source": [
    "## Data Preparation"
   ]
  },
  {
   "cell_type": "markdown",
   "metadata": {},
   "source": [
    "**Now, there are total 167980 observations without missing values.**"
   ]
  },
  {
   "cell_type": "code",
   "execution_count": 8,
   "metadata": {},
   "outputs": [],
   "source": [
    "df['SEVERITYCODE'] = np.where(df['SEVERITYCODE']==2,1,0)\n",
    "df['SEVERITYCODE'] = df['SEVERITYCODE'].astype('category')"
   ]
  },
  {
   "cell_type": "code",
   "execution_count": 9,
   "metadata": {},
   "outputs": [
    {
     "data": {
      "text/plain": [
       "0    112477\n",
       "1     55503\n",
       "Name: SEVERITYCODE, dtype: int64"
      ]
     },
     "execution_count": 9,
     "metadata": {},
     "output_type": "execute_result"
    }
   ],
   "source": [
    "df['SEVERITYCODE'].value_counts()"
   ]
  },
  {
   "cell_type": "code",
   "execution_count": 10,
   "metadata": {},
   "outputs": [
    {
     "data": {
      "text/plain": [
       "<seaborn.axisgrid.FacetGrid at 0x1071a05c0>"
      ]
     },
     "execution_count": 10,
     "metadata": {},
     "output_type": "execute_result"
    },
    {
     "data": {
      "image/png": "[encoded data removed]",
      "text/plain": [
       "<Figure size 360x360 with 1 Axes>"
      ]
     },
     "metadata": {
      "needs_background": "light"
     },
     "output_type": "display_data"
    }
   ],
   "source": [
    "sns.catplot(x=\"SEVERITYCODE\",kind=\"count\",data=df)"
   ]
  },
  {
   "cell_type": "markdown",
   "metadata": {},
   "source": [
    "**0 is prop damage and 1 represents there are some injuries. We can see above that data is imbalanced.**"
   ]
  },
  {
   "cell_type": "code",
   "execution_count": 11,
   "metadata": {},
   "outputs": [
    {
     "data": {
      "text/plain": [
       "Angles        33742\n",
       "Parked Car    32589\n",
       "Rear Ended    32489\n",
       "Other         22093\n",
       "Sideswipe     17484\n",
       "Left Turn     13357\n",
       "Pedestrian     6274\n",
       "Cycles         5202\n",
       "Right Turn     2803\n",
       "Head On        1947\n",
       "Name: COLLISIONTYPE, dtype: int64"
      ]
     },
     "execution_count": 11,
     "metadata": {},
     "output_type": "execute_result"
    }
   ],
   "source": [
    "# get some info of \"COLLISIONTYPE\"\n",
    "df['COLLISIONTYPE'].value_counts()"
   ]
  },
  {
   "cell_type": "code",
   "execution_count": 12,
   "metadata": {},
   "outputs": [
    {
     "data": {
      "image/png": "[encoded data removed]",
      "text/plain": [
       "<Figure size 432x648 with 1 Axes>"
      ]
     },
     "metadata": {},
     "output_type": "display_data"
    }
   ],
   "source": [
    "plt.figure(figsize=(6,9))\n",
    "labels = [u'Angles',u'Parked Car',u'Rear Ended',u'Other',u'Sidewipe',u'Left Turn']\n",
    "sizes = df['COLLISIONTYPE'].value_counts()[0:6] \n",
    "colors = ['red','yellowgreen','lightskyblue','pink','gray','green']\n",
    "\n",
    "patches,text1,text2 = plt.pie(sizes,\n",
    "                      labels=labels,\n",
    "                      colors=colors,\n",
    "                      autopct = '%3.2f%%', \n",
    "                      shadow = False, \n",
    "                      startangle =90,\n",
    "                      pctdistance = 0.6) \n",
    "\n",
    "plt.axis('equal')\n",
    "plt.show()"
   ]
  },
  {
   "cell_type": "code",
   "execution_count": 13,
   "metadata": {},
   "outputs": [
    {
     "data": {
      "text/plain": [
       "Clear                       107310\n",
       "Raining                      32309\n",
       "Overcast                     26566\n",
       "Snowing                        818\n",
       "Fog/Smog/Smoke                 544\n",
       "Other                          250\n",
       "Sleet/Hail/Freezing Rain       110\n",
       "Blowing Sand/Dirt               43\n",
       "Severe Crosswind                25\n",
       "Partly Cloudy                    5\n",
       "Name: WEATHER, dtype: int64"
      ]
     },
     "execution_count": 13,
     "metadata": {},
     "output_type": "execute_result"
    }
   ],
   "source": [
    "# get some info of \"WEATHER\"\n",
    "df['WEATHER'].value_counts()"
   ]
  },
  {
   "cell_type": "code",
   "execution_count": 14,
   "metadata": {},
   "outputs": [
    {
     "data": {
      "image/png": "[encoded data removed]",
      "text/plain": [
       "<Figure size 432x648 with 1 Axes>"
      ]
     },
     "metadata": {},
     "output_type": "display_data"
    }
   ],
   "source": [
    "plt.figure(figsize=(6,9))\n",
    "labels = [u'Clear',u'Raining',u'Overcast']\n",
    "sizes = df['WEATHER'].value_counts()[0:3] \n",
    "colors = ['red','yellowgreen','lightskyblue']\n",
    "\n",
    "patches,text1,text2 = plt.pie(sizes,\n",
    "                      labels=labels,\n",
    "                      colors=colors,\n",
    "                      autopct = '%3.2f%%', \n",
    "                      shadow = False, \n",
    "                      startangle =90,\n",
    "                      pctdistance = 0.6) \n",
    "\n",
    "plt.axis('equal')\n",
    "plt.show()"
   ]
  },
  {
   "cell_type": "markdown",
   "metadata": {},
   "source": [
    "**Encoding Variables**"
   ]
  },
  {
   "cell_type": "code",
   "execution_count": 15,
   "metadata": {},
   "outputs": [],
   "source": [
    "col1 = ['INATTENTIONIND', 'UNDERINFL', 'PEDROWNOTGRNT', 'SPEEDING', 'HITPARKEDCAR'] # categorical vars with 2 levels\n",
    "col2 = ['COLLISIONTYPE','JUNCTIONTYPE','WEATHER','ROADCOND','LIGHTCOND'] # categorical vars with multiple levels"
   ]
  },
  {
   "cell_type": "code",
   "execution_count": 16,
   "metadata": {},
   "outputs": [],
   "source": [
    "for col in col1:\n",
    "    df[col] = df[col].astype('category')   "
   ]
  },
  {
   "cell_type": "code",
   "execution_count": 17,
   "metadata": {},
   "outputs": [],
   "source": [
    "df['INATTENTIONIND'] = df['INATTENTIONIND'].cat.rename_categories({\"N\":0, \"Y\":1})\n",
    "df['PEDROWNOTGRNT'] = df['PEDROWNOTGRNT'].cat.rename_categories({\"N\":0, \"Y\":1})\n",
    "df['SPEEDING'] = df['SPEEDING'].cat.rename_categories({\"N\":0, \"Y\":1})\n",
    "df['HITPARKEDCAR'] = df['HITPARKEDCAR'].cat.rename_categories({\"N\":0, \"Y\":1})\n",
    "df['UNDERINFL'] = df['UNDERINFL'].cat.rename_categories({\"N\":0, \"Y\":1})"
   ]
  },
  {
   "cell_type": "code",
   "execution_count": 18,
   "metadata": {},
   "outputs": [],
   "source": [
    "from sklearn import preprocessing\n",
    "lbl = preprocessing.LabelEncoder()\n",
    "for col in col1:\n",
    "    df[col] = lbl.fit_transform(df[col])"
   ]
  },
  {
   "cell_type": "code",
   "execution_count": 19,
   "metadata": {},
   "outputs": [],
   "source": [
    "df = pd.get_dummies(df, columns=col2)"
   ]
  },
  {
   "cell_type": "code",
   "execution_count": 20,
   "metadata": {},
   "outputs": [
    {
     "name": "stdout",
     "output_type": "stream",
     "text": [
      "<class 'pandas.core.frame.DataFrame'>\n",
      "Int64Index: 167980 entries, 0 to 194672\n",
      "Data columns (total 53 columns):\n",
      "SEVERITYCODE                                                      167980 non-null category\n",
      "OBJECTID                                                          167980 non-null int64\n",
      "PERSONCOUNT                                                       167980 non-null int64\n",
      "PEDCOUNT                                                          167980 non-null int64\n",
      "PEDCYLCOUNT                                                       167980 non-null int64\n",
      "VEHCOUNT                                                          167980 non-null int64\n",
      "INATTENTIONIND                                                    167980 non-null int64\n",
      "UNDERINFL                                                         167980 non-null int64\n",
      "PEDROWNOTGRNT                                                     167980 non-null int64\n",
      "SPEEDING                                                          167980 non-null int64\n",
      "HITPARKEDCAR                                                      167980 non-null int64\n",
      "COLLISIONTYPE_Angles                                              167980 non-null uint8\n",
      "COLLISIONTYPE_Cycles                                              167980 non-null uint8\n",
      "COLLISIONTYPE_Head On                                             167980 non-null uint8\n",
      "COLLISIONTYPE_Left Turn                                           167980 non-null uint8\n",
      "COLLISIONTYPE_Other                                               167980 non-null uint8\n",
      "COLLISIONTYPE_Parked Car                                          167980 non-null uint8\n",
      "COLLISIONTYPE_Pedestrian                                          167980 non-null uint8\n",
      "COLLISIONTYPE_Rear Ended                                          167980 non-null uint8\n",
      "COLLISIONTYPE_Right Turn                                          167980 non-null uint8\n",
      "COLLISIONTYPE_Sideswipe                                           167980 non-null uint8\n",
      "JUNCTIONTYPE_At Intersection (but not related to intersection)    167980 non-null uint8\n",
      "JUNCTIONTYPE_At Intersection (intersection related)               167980 non-null uint8\n",
      "JUNCTIONTYPE_Driveway Junction                                    167980 non-null uint8\n",
      "JUNCTIONTYPE_Mid-Block (but intersection related)                 167980 non-null uint8\n",
      "JUNCTIONTYPE_Mid-Block (not related to intersection)              167980 non-null uint8\n",
      "JUNCTIONTYPE_Ramp Junction                                        167980 non-null uint8\n",
      "WEATHER_Blowing Sand/Dirt                                         167980 non-null uint8\n",
      "WEATHER_Clear                                                     167980 non-null uint8\n",
      "WEATHER_Fog/Smog/Smoke                                            167980 non-null uint8\n",
      "WEATHER_Other                                                     167980 non-null uint8\n",
      "WEATHER_Overcast                                                  167980 non-null uint8\n",
      "WEATHER_Partly Cloudy                                             167980 non-null uint8\n",
      "WEATHER_Raining                                                   167980 non-null uint8\n",
      "WEATHER_Severe Crosswind                                          167980 non-null uint8\n",
      "WEATHER_Sleet/Hail/Freezing Rain                                  167980 non-null uint8\n",
      "WEATHER_Snowing                                                   167980 non-null uint8\n",
      "ROADCOND_Dry                                                      167980 non-null uint8\n",
      "ROADCOND_Ice                                                      167980 non-null uint8\n",
      "ROADCOND_Oil                                                      167980 non-null uint8\n",
      "ROADCOND_Other                                                    167980 non-null uint8\n",
      "ROADCOND_Sand/Mud/Dirt                                            167980 non-null uint8\n",
      "ROADCOND_Snow/Slush                                               167980 non-null uint8\n",
      "ROADCOND_Standing Water                                           167980 non-null uint8\n",
      "ROADCOND_Wet                                                      167980 non-null uint8\n",
      "LIGHTCOND_Dark - No Street Lights                                 167980 non-null uint8\n",
      "LIGHTCOND_Dark - Street Lights Off                                167980 non-null uint8\n",
      "LIGHTCOND_Dark - Street Lights On                                 167980 non-null uint8\n",
      "LIGHTCOND_Dark - Unknown Lighting                                 167980 non-null uint8\n",
      "LIGHTCOND_Dawn                                                    167980 non-null uint8\n",
      "LIGHTCOND_Daylight                                                167980 non-null uint8\n",
      "LIGHTCOND_Dusk                                                    167980 non-null uint8\n",
      "LIGHTCOND_Other                                                   167980 non-null uint8\n",
      "dtypes: category(1), int64(10), uint8(42)\n",
      "memory usage: 26.0 MB\n"
     ]
    }
   ],
   "source": [
    "df.info()"
   ]
  },
  {
   "cell_type": "markdown",
   "metadata": {},
   "source": [
    "**In this dataset, the dependent variable is \"SEVERITYCODE\", which represents the severity of the collision. In terms of the fatures, I created some dummy variables for the categorical variables with multiple levels (They are 'COLLISIONTYPE','JUNCTIONTYPE','WEATHER','ROADCOND','LIGHTCOND').**"
   ]
  },
  {
   "cell_type": "markdown",
   "metadata": {},
   "source": [
    "**So far, there are total 14 relevant features that coud be first selected using some feature reduction methodologies and then be incorporated into the classification model to predict the severity of the collision.**"
   ]
  },
  {
   "cell_type": "markdown",
   "metadata": {},
   "source": [
    "## Modeling"
   ]
  },
  {
   "cell_type": "markdown",
   "metadata": {},
   "source": [
    "**Several prediction models will be built using machine learning algorithms. I will first Balanced Random Forest(BRF) algorithm, a variation of Random Forest specially designed to better manage data imbalance. BalancedBaggingClassifier allows to resample each subset of data before to train each estimator of the ensemble. In short, it combines the output of an EasyEnsemble sampler with an ensemble of classifiers (i.e. BaggingClassifier). Therefore, BalancedBaggingClassifier takes the same parameters than the scikit-learn BaggingClassifier. Additionally, there is two additional parameters, sampling_strategy and replacement to control the behaviour of the random under-sampler.**"
   ]
  },
  {
   "cell_type": "code",
   "execution_count": 21,
   "metadata": {},
   "outputs": [],
   "source": [
    "from sklearn.model_selection import train_test_split\n",
    "from imblearn.ensemble import BalancedBaggingClassifier\n",
    "from sklearn.tree import DecisionTreeClassifier\n",
    "from sklearn.metrics import confusion_matrix\n",
    "from sklearn.model_selection import cross_val_score\n",
    "from sklearn.model_selection import StratifiedKFold\n",
    "from numpy import mean\n",
    "from sklearn.model_selection import GridSearchCV\n",
    "from sklearn.metrics import precision_score\n",
    "from sklearn.metrics import recall_score\n",
    "from sklearn.metrics import precision_recall_fscore_support\n",
    "from sklearn.metrics import precision_recall_curve\n",
    "from numpy import trapz\n",
    "from scipy.integrate import simps\n",
    "from sklearn.metrics import f1_score\n",
    "from sklearn.metrics import roc_curve, roc_auc_score,balanced_accuracy_score"
   ]
  },
  {
   "cell_type": "code",
   "execution_count": 22,
   "metadata": {},
   "outputs": [],
   "source": [
    "def Evaluate(labels, predictions, p=0.5):\n",
    "    CM= confusion_matrix(labels, predictions > p)\n",
    "    TN = CM[0][0]\n",
    "    FN = CM[1][0]\n",
    "    TP = CM[1][1]\n",
    "    FP = CM[0][1]\n",
    "    print('Severity=1 detected (True Negatives): {}'.format(TN))\n",
    "    print('Severity =2 Missed (False Negatives):  {}'.format(FN))\n",
    "    print('Severity=2 Detected (True Positives): {}'.format(TP))\n",
    "    print('Severity=2 incorrectly Detected (False Positives):{}'.format(FP))\n",
    "    auc = roc_auc_score(labels, predictions)\n",
    "    prec=precision_score(labels, predictions>0.5)\n",
    "    rec=recall_score(labels, predictions>0.5)\n",
    "     # calculate F1 score\n",
    "    f1 = f1_score(labels, predictions>p)\n",
    "    print('auc :{}'.format(auc))\n",
    "    print('precision :{}'.format(prec))\n",
    "    print('recall :{}'.format(rec))\n",
    "    print('f1 :{}'.format(f1))\n",
    "    # Compute Precision-Recall and plot curve\n",
    "    precision, recall, thresholds = precision_recall_curve(labels, predictions >0.5)\n",
    "    #use the trapezoidal rule to calculate the area under the precion-recall curve\n",
    "    area =  trapz(recall, precision)\n",
    "   \n",
    "    #area =  simps(recall, precision)\n",
    "    print(\"Area Under Precision Recall  Curve(AP): %0.4f\" % area) "
   ]
  },
  {
   "cell_type": "code",
   "execution_count": 23,
   "metadata": {},
   "outputs": [],
   "source": [
    "X = df.iloc[:,2:]\n",
    "y =  df.iloc[:,0]\n",
    "X_train, X_test, y_train, y_test = train_test_split(X,y,test_size=0.3, random_state=0)"
   ]
  },
  {
   "cell_type": "code",
   "execution_count": 24,
   "metadata": {},
   "outputs": [],
   "source": [
    "#gridsearch\n",
    "# param_grid = {\n",
    "#     'n_estimators' : [500],\n",
    "#     'max_features':[0.1,0.5,0.7]\n",
    "# }\n",
    "\n",
    "# clf = GridSearchCV(BalancedBaggingClassifier(DecisionTreeClassifier()),\n",
    "#                    param_grid, scoring = \"roc_auc\")\n",
    "# grid_result = clf.fit(X_train, y_train)"
   ]
  },
  {
   "cell_type": "code",
   "execution_count": 25,
   "metadata": {},
   "outputs": [],
   "source": [
    "#print(\"Best: %f using %s\" % (grid_result.best_score_, grid_result.best_params_))"
   ]
  },
  {
   "cell_type": "code",
   "execution_count": 26,
   "metadata": {},
   "outputs": [
    {
     "data": {
      "text/plain": [
       "BalancedBaggingClassifier(base_estimator=DecisionTreeClassifier(),\n",
       "                          max_features=0.3, max_samples=0.5, n_estimators=500,\n",
       "                          n_jobs=-1, random_state=0)"
      ]
     },
     "execution_count": 26,
     "metadata": {},
     "output_type": "execute_result"
    }
   ],
   "source": [
    "tree = DecisionTreeClassifier()\n",
    "bbc = BalancedBaggingClassifier(base_estimator=tree,\n",
    "                                sampling_strategy = 'auto',\n",
    "                                replacement=False,\n",
    "                                n_jobs=-1,\n",
    "                                random_state=0,\n",
    "                                n_estimators=500,\n",
    "                                max_samples=0.5,\n",
    "                                max_features=0.3)\n",
    "\n",
    "bbc.fit(X_train, y_train)"
   ]
  },
  {
   "cell_type": "code",
   "execution_count": 27,
   "metadata": {},
   "outputs": [
    {
     "name": "stdout",
     "output_type": "stream",
     "text": [
      "Severity=1 detected (True Negatives): 22420\n",
      "Severity =2 Missed (False Negatives):  4957\n",
      "Severity=2 Detected (True Positives): 11547\n",
      "Severity=2 incorrectly Detected (False Positives):11470\n",
      "auc :0.7631215067438251\n",
      "precision :0.501672676717209\n",
      "recall :0.6996485700436258\n",
      "f1 :0.5843475620556159\n",
      "Area Under Precision Recall  Curve(AP): 0.3223\n"
     ]
    }
   ],
   "source": [
    "y_pred = bbc.predict_proba(X_test.values)[:,1]\n",
    "Evaluate(labels=y_test, predictions=y_pred, p=0.5)"
   ]
  },
  {
   "cell_type": "markdown",
   "metadata": {},
   "source": [
    "## Evaluation"
   ]
  },
  {
   "cell_type": "code",
   "execution_count": 29,
   "metadata": {},
   "outputs": [
    {
     "data": {
      "image/png": "[encoded data removed]",
      "text/plain": [
       "<Figure size 432x288 with 1 Axes>"
      ]
     },
     "metadata": {
      "needs_background": "light"
     },
     "output_type": "display_data"
    }
   ],
   "source": [
    "from sklearn.metrics import roc_curve, auc\n",
    "\n",
    "fpr, tpr, _ = roc_curve(y_test.ravel(), y_pred.ravel())\n",
    "roc_auc = auc(fpr, tpr)\n",
    "roc_auc\n",
    "plt.figure()\n",
    "lw = 2\n",
    "plt.plot(fpr, tpr, color='darkorange',\n",
    "         lw=lw, label='ROC curve (area = %0.2f)' % roc_auc)\n",
    "plt.plot([0, 1], [0, 1], color='navy', lw=lw, linestyle='--')\n",
    "plt.xlim([0.0, 1.0])\n",
    "plt.ylim([0.0, 1.05])\n",
    "plt.xlabel('False Positive Rate')\n",
    "plt.ylabel('True Positive Rate')\n",
    "plt.title('Receiver operating characteristic')\n",
    "plt.legend(loc=\"lower right\")\n",
    "plt.show()"
   ]
  }
 ],
 "metadata": {
  "kernelspec": {
   "display_name": "Python 3",
   "language": "python",
   "name": "python3"
  },
  "language_info": {
   "codemirror_mode": {
    "name": "ipython",
    "version": 3
   },
   "file_extension": ".py",
   "mimetype": "text/x-python",
   "name": "python",
   "nbconvert_exporter": "python",
   "pygments_lexer": "ipython3",
   "version": "3.7.3"
  }
 },
 "nbformat": 4,
 "nbformat_minor": 2
}
